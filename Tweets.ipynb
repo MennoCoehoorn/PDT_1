{
 "cells": [
  {
   "cell_type": "code",
   "execution_count": null,
   "metadata": {},
   "outputs": [],
   "source": [
    "from sqlalchemy import create_engine\n",
    "import pandas as pd\n",
    "import re\n",
    "import numpy as np\n",
    "import time\n",
    "import nltk\n",
    "from nltk.sentiment.vader import SentimentIntensityAnalyzer\n",
    "import psycopg2\n",
    "from psycopg2.extras import execute_batch\n",
    "import matplotlib.pyplot as plt"
   ]
  },
  {
   "cell_type": "code",
   "execution_count": null,
   "metadata": {},
   "outputs": [],
   "source": [
    "sid = SentimentIntensityAnalyzer()"
   ]
  },
  {
   "cell_type": "code",
   "execution_count": null,
   "metadata": {},
   "outputs": [],
   "source": [
    "%load_ext sql"
   ]
  },
  {
   "cell_type": "code",
   "execution_count": null,
   "metadata": {},
   "outputs": [],
   "source": [
    "# Postgres username, password, and database name\n",
    "POSTGRES_ADDRESS = 'localhost' \n",
    "POSTGRES_PORT = '5433'\n",
    "POSTGRES_USERNAME = 'postgres' \n",
    "POSTGRES_PASSWORD = 'marek951'\n",
    "POSTGRES_DBNAME = 'PDT'"
   ]
  },
  {
   "cell_type": "code",
   "execution_count": null,
   "metadata": {},
   "outputs": [],
   "source": [
    "postgres_str = ('postgresql://{username}:{password}@{ipaddress}:{port}/{dbname}'.format(username=POSTGRES_USERNAME, password=POSTGRES_PASSWORD, ipaddress=POSTGRES_ADDRESS, port=POSTGRES_PORT, dbname=POSTGRES_DBNAME))"
   ]
  },
  {
   "cell_type": "code",
   "execution_count": null,
   "metadata": {},
   "outputs": [],
   "source": [
    "cnx = create_engine(postgres_str)"
   ]
  },
  {
   "cell_type": "code",
   "execution_count": null,
   "metadata": {},
   "outputs": [],
   "source": [
    "test_text = pd.read_sql_query('''SELECT * FROM tweets where id = '1220790552674865153';''', cnx).content[0]\n",
    "print(test_text)"
   ]
  },
  {
   "cell_type": "code",
   "execution_count": null,
   "metadata": {},
   "outputs": [],
   "source": [
    "#https://gist.github.com/Alex-Just/e86110836f3f93fe7932290526529cd1\n",
    "def strip_emojis(text):\n",
    "    RE_EMOJI = re.compile(\"[\"\n",
    "    \"\\U0001F1E0-\\U0001F1FF\"  \n",
    "    \"\\U0001F300-\\U0001F5FF\"  \n",
    "    \"\\U0001F600-\\U0001F64F\"  \n",
    "    \"\\U0001F680-\\U0001F6FF\" \n",
    "    \"\\U0001F700-\\U0001F77F\"  \n",
    "    \"\\U0001F780-\\U0001F7FF\"  \n",
    "    \"\\U0001F800-\\U0001F8FF\"  \n",
    "    \"\\U0001F900-\\U0001F9FF\"  \n",
    "    \"\\U0001FA00-\\U0001FA6F\"  \n",
    "    \"\\U0001FA70-\\U0001FAFF\"  \n",
    "    \"\\U00002702-\\U000027B0\" \n",
    "    \"\\U000024C2-\\U0001F251\" \n",
    "    \"]+\")\n",
    "    return RE_EMOJI.sub(r' ', text)"
   ]
  },
  {
   "cell_type": "code",
   "execution_count": null,
   "metadata": {},
   "outputs": [],
   "source": [
    "def strip_mentions(text):\n",
    "    return re.sub(\"@[A-Za-z0-9_]+\",\" \", text)"
   ]
  },
  {
   "cell_type": "code",
   "execution_count": null,
   "metadata": {},
   "outputs": [],
   "source": [
    "def strip_hashtags(text):\n",
    "    return re.sub(\"#[A-Za-z0-9_]+\",\" \", text)"
   ]
  },
  {
   "cell_type": "code",
   "execution_count": null,
   "metadata": {},
   "outputs": [],
   "source": [
    "def strip_all(text):\n",
    "    clean_text = strip_emojis(text)\n",
    "    clean_text = strip_mentions(clean_text)\n",
    "    clean_text = strip_hashtags(clean_text)\n",
    "    return clean_text"
   ]
  },
  {
   "cell_type": "code",
   "execution_count": null,
   "metadata": {},
   "outputs": [],
   "source": [
    "print(strip_all(test_text))"
   ]
  },
  {
   "cell_type": "code",
   "execution_count": null,
   "metadata": {},
   "outputs": [],
   "source": [
    "vs = sid.polarity_scores(strip_all(test_text))\n",
    "print(vs)"
   ]
  },
  {
   "cell_type": "code",
   "execution_count": null,
   "metadata": {},
   "outputs": [],
   "source": [
    "def update_sentiments(con, data, page_size):\n",
    "    cur = con.cursor()\n",
    "    cur.execute(\"PREPARE updateStmt AS UPDATE tweets SET neg=$1, neu=$2, pos=$3, compound=$4 WHERE id=$5\")\n",
    "    execute_batch(cur, \"EXECUTE updateStmt (%(neg)s, %(neu)s, %(pos)s, %(compound)s, %(id)s)\", data, page_size=page_size)\n",
    "    cur.execute(\"DEALLOCATE updateStmt\")\n",
    "    con.commit()"
   ]
  },
  {
   "cell_type": "code",
   "execution_count": null,
   "metadata": {
    "scrolled": true
   },
   "outputs": [],
   "source": [
    "con = psycopg2.connect(\"dbname='PDT' user='postgres' host='localhost' password='marek951' port='5433'\")\n",
    "BIGLIMIT = 2144772 #hodnota získané count query na pgadminovi\n",
    "limit = 50000\n",
    "offset = 0\n",
    "sql = \"\"\"SELECT distinct t.id, t.content from tweets t\n",
    "INNER JOIN tweet_hashtags th ON th.tweet_id = t.id\n",
    "INNER JOIN hashtags h ON h.id = th.hashtag_id\n",
    "WHERE LOWER(h.value) IN (LOWER('DeepstateVirus'), \n",
    "\t\t\t\t\t\t LOWER('DeepStateVaccine'),\n",
    "\t\t\t\t\t\t LOWER('QAnon'),\n",
    "\t\t\t\t\t\t LOWER('Agenda21'),\n",
    "\t\t\t\t\t\t LOWER('CCPVirus'),\n",
    "\t\t\t\t\t\t LOWER('ClimateChangeHoax'),\n",
    "\t\t\t\t\t\t LOWER('GlobalWarmingHoax'),\n",
    "\t\t\t\t\t\t LOWER('ChinaLiedPeopleDied'),\n",
    "\t\t\t\t\t\t LOWER('SorosVirus'),\n",
    "\t\t\t\t\t\t LOWER('5GCoronavirus'),\n",
    "\t\t\t\t\t\t LOWER('MAGA'),\n",
    "\t\t\t\t\t\t LOWER('WWG1WGA'),\n",
    "\t\t\t\t\t\t LOWER('Chemtrails'),\n",
    "\t\t\t\t\t\t LOWER('flatEarth'),\n",
    "\t\t\t\t\t\t LOWER('MoonLandingHoax'),\n",
    "\t\t\t\t\t\t LOWER('moonhoax'),\n",
    "\t\t\t\t\t\t LOWER('illuminati'),\n",
    "\t\t\t\t\t\t LOWER('pizzaGateIsReal'),\n",
    "\t\t\t\t\t\t LOWER('PedoGateIsReal'),\n",
    "\t\t\t\t\t\t LOWER('911truth'),\n",
    "\t\t\t\t\t\t LOWER('911insidejob'),\n",
    "\t\t\t\t\t\t LOWER('reptilians'),\n",
    "\t\t\t\t\t\t LOWER('DeepStateFauci')) and t.neg is null LIMIT %s OFFSET %s;\"\"\"\n",
    "while(offset<BIGLIMIT):\n",
    "    test_data = pd.read_sql_query(sql, cnx, params=(limit,offset))\n",
    "    print(\"data_loaded\")\n",
    "    test_data['clean_texts'] = test_data.apply(lambda row: strip_all(row.content), axis = 1)\n",
    "    print(\"clean_texts done\")\n",
    "    test_data['vs'] = test_data.apply(lambda row: sid.polarity_scores(row['clean_texts']), axis = 1)\n",
    "    print(\"sentiment calced\")\n",
    "    test_data['neg'] = test_data.apply(lambda row: row['vs']['neg'], axis = 1)\n",
    "    test_data['neu'] = test_data.apply(lambda row: row['vs']['neu'], axis = 1)\n",
    "    test_data['pos'] = test_data.apply(lambda row: row['vs']['pos'], axis = 1)\n",
    "    test_data['compound'] = test_data.apply(lambda row: row['vs']['compound'], axis = 1)\n",
    "    update_sentiments(con, test_data.to_dict('records'), 10000)\n",
    "    offset = offset + limit\n",
    "    print(offset)\n",
    "con.close()"
   ]
  },
  {
   "cell_type": "code",
   "execution_count": null,
   "metadata": {},
   "outputs": [],
   "source": [
    "column_names = ['tweet_id','theory_id']\n",
    "all_theories = pd.DataFrame(columns = column_names)"
   ]
  },
  {
   "cell_type": "code",
   "execution_count": null,
   "metadata": {},
   "outputs": [],
   "source": [
    "queries = [\"\"\"(LOWER('DeepstateVirus'), LOWER('DeepStateVaccine'),LOWER('DeepStateFauci'));\"\"\",\n",
    "           \"\"\"(LOWER('QAnon'), LOWER('MAGA'),LOWER('WWG1WGA'));\"\"\",\n",
    "           \"\"\"(LOWER('Agenda21'));\"\"\",\n",
    "           \"\"\"(LOWER('CCPVirus'), LOWER('ChinaLiedPeopleDied'));\"\"\",\n",
    "           \"\"\"(LOWER('ClimateChangeHoax'), LOWER('GlobalWarmingHoax'));\"\"\",\n",
    "           \"\"\"(LOWER('SorosVirus'), LOWER('BillGAtes'));\"\"\",\n",
    "           \"\"\"(LOWER('5GCoronavirus'));\"\"\",\n",
    "           \"\"\"(LOWER('MoonLandingHoax'), LOWER('moonhoax'));\"\"\",\n",
    "           \"\"\"(LOWER('911truth'), LOWER('911insidejob'));\"\"\",\n",
    "           \"\"\"(LOWER('pizzaGateIsReal'), LOWER('PedoGateIsReal'));\"\"\",\n",
    "           \"\"\"(LOWER('Chemtrails'));\"\"\",\n",
    "           \"\"\"(LOWER('flatEarth'));\"\"\",\n",
    "           \"\"\"(LOWER('illuminati'));\"\"\",\n",
    "           \"\"\"(LOWER('reptilians'));\"\"\",\n",
    "          ]"
   ]
  },
  {
   "cell_type": "code",
   "execution_count": null,
   "metadata": {},
   "outputs": [],
   "source": [
    "\n",
    "#funkcia na postupné priradenie tweetov k teóriam\n",
    "q_start = \"\"\"SELECT DISTINCT t.id from tweets t\n",
    "INNER JOIN tweet_hashtags th ON th.tweet_id = t.id\n",
    "INNER JOIN hashtags h ON h.id = th.hashtag_id\n",
    "WHERE LOWER(h.value) IN \"\"\"\n",
    "for x in range(14):\n",
    "    query = q_start + queries[x]\n",
    "    theory_part = pd.read_sql_query(query, cnx)\n",
    "    theory_part = theory_part.rename(columns={'id': 'tweet_id'})\n",
    "    theory_part['tweet_id'] = theory_part['tweet_id'].astype('str')\n",
    "    theory_part['theory_id'] = x + 1\n",
    "    all_theories = all_theories.append(theory_part)"
   ]
  },
  {
   "cell_type": "code",
   "execution_count": null,
   "metadata": {},
   "outputs": [],
   "source": [
    "#all_theories.to_sql('tweet_theories', con=cnx, if_exists='replace')"
   ]
  },
  {
   "cell_type": "code",
   "execution_count": null,
   "metadata": {},
   "outputs": [],
   "source": [
    "sql = \"\"\"SELECT date_trunc('week', happened_at::date) AS weekly,\n",
    "       COUNT(t.id) as tweet_count,\n",
    "\t   COUNT(t.id) FILTER (WHERE t.compound < -0.5 OR t.compound > 0.5) AS tweet_extreme_count,\n",
    "\t   COUNT(t.id) FILTER (WHERE t.compound > -0.05 AND t.compound < 0.05) AS tweet_neutral_count,\n",
    "\t   CASE\n",
    "    \tWHEN COUNT(t.id) FILTER (WHERE t.compound > -0.05 AND t.compound < 0.05) > 0 THEN COUNT(t.id) FILTER (WHERE t.compound < -0.5 OR t.compound > 0.5)::decimal/COUNT(t.id) FILTER (WHERE t.compound > -0.05 AND t.compound < 0.05)\n",
    "    \tELSE 0\n",
    "\t   END AS extreme_neutral\n",
    "FROM tweets t INNER JOIN tweet_theories tt on t.id = tt.tweet_id\n",
    "WHERE tt.theory_id = %s\n",
    "GROUP BY weekly\n",
    "ORDER BY weekly;\"\"\"\n",
    "theory_id = 14\n",
    "weekly_data = pd.read_sql_query(sql, cnx, params=(theory_id,))"
   ]
  },
  {
   "cell_type": "code",
   "execution_count": null,
   "metadata": {},
   "outputs": [],
   "source": [
    "x_ticks = np.arange(start=1, stop=weekly_data.shape[0]+1, step=1).tolist()\n",
    "print(x_ticks)\n",
    "fig, ax = plt.subplots()\n",
    "ax.plot(x_ticks, weekly_data['extreme_neutral'])\n",
    "plt.xticks(np.arange(start=1, stop=weekly_data.shape[0]+1, step=1))\n",
    "ax.set_xlabel('weeks') \n",
    "ax.set_ylabel('extreme_neutral')"
   ]
  },
  {
   "cell_type": "code",
   "execution_count": null,
   "metadata": {},
   "outputs": [],
   "source": [
    "sql = \"\"\"SELECT \n",
    "\ta.id,\n",
    "\ta.name, \n",
    "\ta.screen_name,\n",
    "\tcount(t.id) as tweet_count\n",
    "FROM tweets t INNER JOIN tweet_theories tt ON t.id = tt.tweet_id\n",
    "INNER JOIN accounts a ON t.author_id = a.id\n",
    "WHERE t.compound NOT BETWEEN -0.5 AND 0.5 AND tt.theory_id = %s\n",
    "GROUP BY a.name, a.screen_name, a.id\n",
    "ORDER BY tweet_count DESC\n",
    "LIMIT 10;\"\"\"\n",
    "theory_id = 14\n",
    "top_acc_data = pd.read_sql_query(sql, cnx, params=(theory_id,))"
   ]
  },
  {
   "cell_type": "code",
   "execution_count": null,
   "metadata": {},
   "outputs": [],
   "source": [
    "top_acc_data.head(10)"
   ]
  },
  {
   "cell_type": "code",
   "execution_count": null,
   "metadata": {},
   "outputs": [],
   "source": [
    "sql = \"\"\"SELECT \n",
    "\tCONCAT('#',h.value) AS hashtag,\n",
    "\th.id AS hashtag_id,\n",
    "\tcount(t.id) as hashtag_count\n",
    "FROM tweets t INNER JOIN tweet_theories tt ON t.id = tt.tweet_id\n",
    "INNER JOIN tweet_hashtags th ON t.id = th.tweet_id\n",
    "INNER JOIN hashtags h ON th.hashtag_id = h.id\n",
    "WHERE t.compound NOT BETWEEN -0.5 AND 0.5 AND tt.theory_id = %s\n",
    "GROUP BY h.value, h.id\n",
    "ORDER BY hashtag_count DESC\n",
    "LIMIT 10;\"\"\"\n",
    "theory_id = 14\n",
    "top_hash_data = pd.read_sql_query(sql, cnx, params=(theory_id,))"
   ]
  },
  {
   "cell_type": "code",
   "execution_count": null,
   "metadata": {},
   "outputs": [],
   "source": [
    "top_hash_data.head(10)"
   ]
  }
 ],
 "metadata": {
  "kernelspec": {
   "display_name": "Python 3",
   "language": "python",
   "name": "python3"
  },
  "language_info": {
   "codemirror_mode": {
    "name": "ipython",
    "version": 3
   },
   "file_extension": ".py",
   "mimetype": "text/x-python",
   "name": "python",
   "nbconvert_exporter": "python",
   "pygments_lexer": "ipython3",
   "version": "3.8.3"
  }
 },
 "nbformat": 4,
 "nbformat_minor": 4
}
