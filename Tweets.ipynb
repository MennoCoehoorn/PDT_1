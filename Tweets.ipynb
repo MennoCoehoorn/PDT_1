{
 "cells": [
  {
   "cell_type": "code",
   "execution_count": 9,
   "metadata": {},
   "outputs": [],
   "source": [
    "from sqlalchemy import create_engine\n",
    "import pandas as pd"
   ]
  },
  {
   "cell_type": "code",
   "execution_count": 15,
   "metadata": {},
   "outputs": [],
   "source": [
    "# Postgres username, password, and database name\n",
    "POSTGRES_ADDRESS = 'localhost' \n",
    "POSTGRES_PORT = '5433'\n",
    "POSTGRES_USERNAME = 'postgres' \n",
    "POSTGRES_PASSWORD = 'marek951'\n",
    "POSTGRES_DBNAME = 'PDT'"
   ]
  },
  {
   "cell_type": "code",
   "execution_count": 16,
   "metadata": {},
   "outputs": [],
   "source": [
    "postgres_str = ('postgresql://{username}:{password}@{ipaddress}:{port}/{dbname}'.format(username=POSTGRES_USERNAME, password=POSTGRES_PASSWORD, ipaddress=POSTGRES_ADDRESS, port=POSTGRES_PORT, dbname=POSTGRES_DBNAME))"
   ]
  },
  {
   "cell_type": "code",
   "execution_count": 17,
   "metadata": {},
   "outputs": [],
   "source": [
    "cnx = create_engine(postgres_str)"
   ]
  },
  {
   "cell_type": "code",
   "execution_count": 18,
   "metadata": {},
   "outputs": [
    {
     "data": {
      "text/html": [
       "<div>\n",
       "<style scoped>\n",
       "    .dataframe tbody tr th:only-of-type {\n",
       "        vertical-align: middle;\n",
       "    }\n",
       "\n",
       "    .dataframe tbody tr th {\n",
       "        vertical-align: top;\n",
       "    }\n",
       "\n",
       "    .dataframe thead th {\n",
       "        text-align: right;\n",
       "    }\n",
       "</style>\n",
       "<table border=\"1\" class=\"dataframe\">\n",
       "  <thead>\n",
       "    <tr style=\"text-align: right;\">\n",
       "      <th></th>\n",
       "      <th>id</th>\n",
       "      <th>content</th>\n",
       "      <th>location</th>\n",
       "      <th>retweet_count</th>\n",
       "      <th>favorite_count</th>\n",
       "      <th>happened_at</th>\n",
       "      <th>author_id</th>\n",
       "      <th>country_id</th>\n",
       "      <th>parent_id</th>\n",
       "    </tr>\n",
       "  </thead>\n",
       "  <tbody>\n",
       "    <tr>\n",
       "      <th>0</th>\n",
       "      <td>1220798251919536128</td>\n",
       "      <td>Virologist Who Helped Fight SARS Says Wuhan Co...</td>\n",
       "      <td>None</td>\n",
       "      <td>0</td>\n",
       "      <td>0</td>\n",
       "      <td>2020-01-24 19:59:19+00:00</td>\n",
       "      <td>280887543</td>\n",
       "      <td>None</td>\n",
       "      <td>None</td>\n",
       "    </tr>\n",
       "    <tr>\n",
       "      <th>1</th>\n",
       "      <td>1220798255098777601</td>\n",
       "      <td>RT @Chn_analysis: @thespybrief @hiemakene Dail...</td>\n",
       "      <td>None</td>\n",
       "      <td>15</td>\n",
       "      <td>0</td>\n",
       "      <td>2020-01-24 19:59:20+00:00</td>\n",
       "      <td>519245371</td>\n",
       "      <td>None</td>\n",
       "      <td>1220786987143192578</td>\n",
       "    </tr>\n",
       "    <tr>\n",
       "      <th>2</th>\n",
       "      <td>1220790544009519104</td>\n",
       "      <td>RT @badiucao: Another video showing medics fro...</td>\n",
       "      <td>None</td>\n",
       "      <td>6784</td>\n",
       "      <td>0</td>\n",
       "      <td>2020-01-24 19:28:41+00:00</td>\n",
       "      <td>1036627006962720768</td>\n",
       "      <td>None</td>\n",
       "      <td>1220729514000633858</td>\n",
       "    </tr>\n",
       "    <tr>\n",
       "      <th>3</th>\n",
       "      <td>1220798255992201217</td>\n",
       "      <td>RT @Adrienne711: @MBJ8388 @FederalistNo78 @jai...</td>\n",
       "      <td>None</td>\n",
       "      <td>4</td>\n",
       "      <td>0</td>\n",
       "      <td>2020-01-24 19:59:20+00:00</td>\n",
       "      <td>1133475349285691393</td>\n",
       "      <td>None</td>\n",
       "      <td>1220796312565796865</td>\n",
       "    </tr>\n",
       "    <tr>\n",
       "      <th>4</th>\n",
       "      <td>1220798256608878598</td>\n",
       "      <td>RT @Gadi3232: The Chinese government has block...</td>\n",
       "      <td>None</td>\n",
       "      <td>438</td>\n",
       "      <td>0</td>\n",
       "      <td>2020-01-24 19:59:20+00:00</td>\n",
       "      <td>3278713214</td>\n",
       "      <td>None</td>\n",
       "      <td>1220777199734792192</td>\n",
       "    </tr>\n",
       "  </tbody>\n",
       "</table>\n",
       "</div>"
      ],
      "text/plain": [
       "                    id                                            content  \\\n",
       "0  1220798251919536128  Virologist Who Helped Fight SARS Says Wuhan Co...   \n",
       "1  1220798255098777601  RT @Chn_analysis: @thespybrief @hiemakene Dail...   \n",
       "2  1220790544009519104  RT @badiucao: Another video showing medics fro...   \n",
       "3  1220798255992201217  RT @Adrienne711: @MBJ8388 @FederalistNo78 @jai...   \n",
       "4  1220798256608878598  RT @Gadi3232: The Chinese government has block...   \n",
       "\n",
       "  location  retweet_count  favorite_count               happened_at  \\\n",
       "0     None              0               0 2020-01-24 19:59:19+00:00   \n",
       "1     None             15               0 2020-01-24 19:59:20+00:00   \n",
       "2     None           6784               0 2020-01-24 19:28:41+00:00   \n",
       "3     None              4               0 2020-01-24 19:59:20+00:00   \n",
       "4     None            438               0 2020-01-24 19:59:20+00:00   \n",
       "\n",
       "             author_id country_id            parent_id  \n",
       "0            280887543       None                 None  \n",
       "1            519245371       None  1220786987143192578  \n",
       "2  1036627006962720768       None  1220729514000633858  \n",
       "3  1133475349285691393       None  1220796312565796865  \n",
       "4           3278713214       None  1220777199734792192  "
      ]
     },
     "execution_count": 18,
     "metadata": {},
     "output_type": "execute_result"
    }
   ],
   "source": [
    "pd.read_sql_query('''SELECT * FROM tweets LIMIT 5;''', cnx)"
   ]
  }
 ],
 "metadata": {
  "kernelspec": {
   "display_name": "Python 3",
   "language": "python",
   "name": "python3"
  },
  "language_info": {
   "codemirror_mode": {
    "name": "ipython",
    "version": 3
   },
   "file_extension": ".py",
   "mimetype": "text/x-python",
   "name": "python",
   "nbconvert_exporter": "python",
   "pygments_lexer": "ipython3",
   "version": "3.8.3"
  }
 },
 "nbformat": 4,
 "nbformat_minor": 4
}
